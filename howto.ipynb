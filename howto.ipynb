{
 "cells": [
  {
   "cell_type": "markdown",
   "metadata": {},
   "source": [
    "# How to EDinPy\n",
    "\n",
    "Greetings! In this notebook you'll find some examples of how to use EDinPy to solve many-body problems. We'll start by getting familiar with some of the modules and classes.\n",
    "\n",
    "## The `boson` and `fermion` submodules\n",
    "\n",
    "EDinPy consists of 2 main classes: `boson` and `fermion`. For the time being, you'll only be able to program a purely bosonic or purely fermionic model. Both of these modules consist of the same classes and functions with the same arguments, except the arguments have to be structured differently in each case.\n",
    "\n",
    "### Importing `boson` and `fermion`\n",
    "\n",
    "The prefered way to import these submodules is as follows:\n"
   ]
  },
  {
   "cell_type": "code",
   "execution_count": 1,
   "metadata": {},
   "outputs": [],
   "source": [
    "# for a fermionic system\n",
    "from edinpy import fermion as edf\n",
    "# and for a bosonic system\n",
    "from edinpy import boson as edb"
   ]
  },
  {
   "cell_type": "markdown",
   "metadata": {},
   "source": [
    "## Class types and functions\n",
    "\n",
    "Now that you've succesfully imported the boson and fermion, let's look at some of the class types you'll need to get familiar with before proceeding further. For the moment, I'll be using the `fermion` submodule but everything I say will apply to `boson` unless otherwise stated.\n",
    "\n",
    "### The `.DoF` class\n",
    "\n",
    "The first step in creating a physical model is to define the degrees of freedom or \"DoF\"s. This is done with the `DoF` class, which works identically for both  `boson` and `fermion`. You can use `?` to see the docstring."
   ]
  },
  {
   "cell_type": "code",
   "execution_count": 2,
   "metadata": {},
   "outputs": [
    {
     "name": "stdout",
     "output_type": "stream",
     "text": [
      "\u001b[1;31mInit signature:\u001b[0m \u001b[0medf\u001b[0m\u001b[1;33m.\u001b[0m\u001b[0mDoF\u001b[0m\u001b[1;33m(\u001b[0m\u001b[0mN_eigenvalues\u001b[0m\u001b[1;33m,\u001b[0m \u001b[0mname\u001b[0m\u001b[1;33m=\u001b[0m\u001b[1;32mNone\u001b[0m\u001b[1;33m)\u001b[0m\u001b[1;33m\u001b[0m\u001b[1;33m\u001b[0m\u001b[0m\n",
      "\u001b[1;31mDocstring:\u001b[0m     \n",
      "Create a degree of freedom.\n",
      "    \n",
      "Parameters\n",
      "----------\n",
      "N_eigenvalues : int\n",
      "    Number of eigenvalues of the associated observable, e.g. electron\n",
      "    spin has 2 eigenvalues, a chain of 5 atoms has 5 position eigenvalues.\n",
      "name : string\n",
      "    Name of the observable.\n",
      "\u001b[1;31mFile:\u001b[0m           c:\\users\\alexs\\miniconda3\\lib\\site-packages\\edinpy\\fermion\\fermion.py\n",
      "\u001b[1;31mType:\u001b[0m           type\n",
      "\u001b[1;31mSubclasses:\u001b[0m     "
     ]
    }
   ],
   "source": [
    "edf.DoF?"
   ]
  },
  {
   "cell_type": "markdown",
   "metadata": {},
   "source": [
    "So, in order to create a DoF, you'll need to specify the number of eigenvalues the corresponding observable has. For instance, if we consider an chain of atoms of size $L$, the position operator $\\hat{x}$ will have $L$ eigenvalues. The way to construct this DoF is as follows:"
   ]
  },
  {
   "cell_type": "code",
   "execution_count": 3,
   "metadata": {},
   "outputs": [],
   "source": [
    "L = 4\n",
    "x = edf.DoF(L, 'x') # the name parameter is optional, but its useful for error handling."
   ]
  },
  {
   "cell_type": "markdown",
   "metadata": {},
   "source": [
    "### The `.clear()` function\n",
    "\n",
    "Before proceeding further it is important to know how DoFs are handled. Every time you call `.DoF` that DoF is stored in a `global list` that must be cleared if you wish to modify the DoFs of the model. If you're working in a notebook, its also necessary to call `.clear()` before calling `.DoF` if you want to rerun a cell. \n",
    "\n",
    "Say you want to modify change the number of sites in your chain from the previous $L = 4$ to $L=5$, as well as add an electron spin DoF. Your code should look something like this:"
   ]
  },
  {
   "cell_type": "code",
   "execution_count": 4,
   "metadata": {},
   "outputs": [],
   "source": [
    "edf.clear()\n",
    "\n",
    "x = edf.DoF(5, 'x')\n",
    "spin = edf.DoF(2, 's')"
   ]
  },
  {
   "cell_type": "markdown",
   "metadata": {},
   "source": [
    "### The `.model` class\n",
    "\n",
    "Now that we've defined all our DoFs, we need to create and populate our model with particles. This is done with the `.model` class. Let's take a look at the docstring:"
   ]
  },
  {
   "cell_type": "code",
   "execution_count": 5,
   "metadata": {},
   "outputs": [
    {
     "name": "stdout",
     "output_type": "stream",
     "text": [
      "\u001b[1;31mInit signature:\u001b[0m \u001b[0medf\u001b[0m\u001b[1;33m.\u001b[0m\u001b[0mmodel\u001b[0m\u001b[1;33m(\u001b[0m\u001b[0mNf\u001b[0m\u001b[1;33m,\u001b[0m \u001b[0mauto\u001b[0m\u001b[1;33m=\u001b[0m\u001b[1;32mTrue\u001b[0m\u001b[1;33m)\u001b[0m\u001b[1;33m\u001b[0m\u001b[1;33m\u001b[0m\u001b[0m\n",
      "\u001b[1;31mDocstring:\u001b[0m     \n",
      "Construct a model with the stored degrees of freedom.\n",
      "\n",
      "Parameters\n",
      "----------\n",
      "Nf : int\n",
      "    Number of fermions.\n",
      "auto : bool\n",
      "    If auto is True then the Fock space is calculated automatically, otherwise\n",
      "    the user must use the build() method to calculate it manually.\n",
      "\u001b[1;31mFile:\u001b[0m           c:\\users\\alexs\\miniconda3\\lib\\site-packages\\edinpy\\fermion\\fermion.py\n",
      "\u001b[1;31mType:\u001b[0m           type\n",
      "\u001b[1;31mSubclasses:\u001b[0m     "
     ]
    }
   ],
   "source": [
    "edf.model?"
   ]
  },
  {
   "cell_type": "markdown",
   "metadata": {},
   "source": [
    "All we need to do is provide the number of fermions (or bosons) $N_{f}$ ($N_{b}$). The keyword argument `auto` tells `.model` whether to construct the relevant Fock space automatically or not. The `fockspace` attribute is an instance of the class `.fermionspace` for fermions and `.bosonspace` for bosons where the occupation number basis vectors are calculated and stored.\n",
    "\n",
    "Let's generate our model and populate it with one particle, like so:"
   ]
  },
  {
   "cell_type": "code",
   "execution_count": 6,
   "metadata": {},
   "outputs": [
    {
     "name": "stdout",
     "output_type": "stream",
     "text": [
      "DoFs of the model: ['x', 's']\n",
      "Number of effective sites = 5*2 = 10\n"
     ]
    }
   ],
   "source": [
    "# Your code will look something like this\n",
    "Nf = 1\n",
    "mf = edf.model(Nf)\n",
    "\n",
    "# Heres some of the attributes stored in the model 'mf'\n",
    "\n",
    "print('DoFs of the model:',[dof.name for dof in mf.dofs])\n",
    "\n",
    "prod = ''\n",
    "for i in range(len(mf.dofs)-1):\n",
    "    prod += f'{mf.dofs[i].N}*' \n",
    "prod += f'{mf.dofs[-1].N}'\n",
    "print(f'Number of effective sites = {prod} = {mf.Neff}')"
   ]
  },
  {
   "cell_type": "markdown",
   "metadata": {},
   "source": [
    "#### What are \"effective sites\"?\n",
    "\n",
    "You may have noticed an attribute called `Neff`, or the number of \"effective sites\". The way EDinPy handles multiple DoFs is by mapping an $N\\text{D}$ problem onto a $1\\text{D}$ problem. In our example, there are 5 atomic sites, however each site can hold $2$ fermions: $1$ spin-up and $1$ spin-down. Including a spin DoF effectively makes $2$ copies of the chain of length $5$ for spin-up and spin-down fermions, respectively. Therefore, the $1\\text{D}$ equivalent problem would have $10$ sites. As another example, a $5\\times5$ lattice with spin would be mapped to a $1\\text{D}$ problem with $5\\times5\\times2 = 50$ sites.\n",
    "\n",
    "When done by hand, the $N\\text{D}$ $\\rightarrow 1\\text{D}$ mapping is increasingly tedious and time-consuming as $N$ grows. The beauty of EDinPy is that the mapping is done automatically, such that the index notation of the $N\\text{D}$ problem is conserved but the calculation are done in the $1\\text{D}$ problem to improve performance and efficiency."
   ]
  },
  {
   "cell_type": "markdown",
   "metadata": {},
   "source": [
    "### The `.fockstate` class\n",
    "\n",
    "The basis vectors stored in the relevant fockspace class are a special object called `.fockstate`. This object type is a computational representation of a Fock state, which stores the probability amplitude (attribute `amp`) and a numerical representation of the occupation state vector (attribute `state`). The way the occupation vector is stored depends on whether your system is bosonic or fermionic."
   ]
  },
  {
   "cell_type": "code",
   "execution_count": 7,
   "metadata": {},
   "outputs": [
    {
     "name": "stdout",
     "output_type": "stream",
     "text": [
      "\u001b[1;31mInit signature:\u001b[0m \u001b[0medf\u001b[0m\u001b[1;33m.\u001b[0m\u001b[0mfockstate\u001b[0m\u001b[1;33m(\u001b[0m\u001b[0mstate\u001b[0m\u001b[1;33m,\u001b[0m \u001b[0mamp\u001b[0m\u001b[1;33m=\u001b[0m\u001b[1;36m1\u001b[0m\u001b[1;33m,\u001b[0m \u001b[0mindex\u001b[0m\u001b[1;33m=\u001b[0m\u001b[1;32mNone\u001b[0m\u001b[1;33m)\u001b[0m\u001b[1;33m\u001b[0m\u001b[1;33m\u001b[0m\u001b[0m\n",
      "\u001b[1;31mDocstring:\u001b[0m     \n",
      "Create a fermionic Fock state.\n",
      "\n",
      "Parameters\n",
      "----------\n",
      "state : int\n",
      "    Occupation numbers of the effective sites represented as an integer.\n",
      "amp : scalar\n",
      "    Probability amplitude of the state. Default value is 1.\n",
      "index : int\n",
      "    Index of the state. Used when constructing a Fock space. Default is None.\n",
      "\u001b[1;31mFile:\u001b[0m           c:\\users\\alexs\\miniconda3\\lib\\site-packages\\edinpy\\fermion\\fermion.py\n",
      "\u001b[1;31mType:\u001b[0m           type\n",
      "\u001b[1;31mSubclasses:\u001b[0m     vacuum"
     ]
    }
   ],
   "source": [
    "edf.fockstate?"
   ]
  },
  {
   "cell_type": "code",
   "execution_count": 8,
   "metadata": {},
   "outputs": [
    {
     "name": "stdout",
     "output_type": "stream",
     "text": [
      "\u001b[1;31mInit signature:\u001b[0m \u001b[0medb\u001b[0m\u001b[1;33m.\u001b[0m\u001b[0mfockstate\u001b[0m\u001b[1;33m(\u001b[0m\u001b[0mstate\u001b[0m\u001b[1;33m,\u001b[0m \u001b[0mamp\u001b[0m\u001b[1;33m=\u001b[0m\u001b[1;36m1\u001b[0m\u001b[1;33m,\u001b[0m \u001b[0mindex\u001b[0m\u001b[1;33m=\u001b[0m\u001b[1;32mNone\u001b[0m\u001b[1;33m)\u001b[0m\u001b[1;33m\u001b[0m\u001b[1;33m\u001b[0m\u001b[0m\n",
      "\u001b[1;31mDocstring:\u001b[0m     \n",
      "Create a bosonic Fock state.\n",
      "\n",
      "Parameters\n",
      "----------\n",
      "state : np.array\n",
      "    Occupation numbers of the effective sites represented as a numpy array.\n",
      "amp : scalar\n",
      "    Probability amplitude of the state. Default value is 1.\n",
      "index : int\n",
      "    Index of the state. Used when constructing a Fock space. Default is None.\n",
      "\u001b[1;31mFile:\u001b[0m           c:\\users\\alexs\\miniconda3\\lib\\site-packages\\edinpy\\boson\\boson.py\n",
      "\u001b[1;31mType:\u001b[0m           type\n",
      "\u001b[1;31mSubclasses:\u001b[0m     vacuum"
     ]
    }
   ],
   "source": [
    "edb.fockstate?"
   ]
  },
  {
   "cell_type": "markdown",
   "metadata": {},
   "source": [
    "#### Interpreting `.fockstate`\n",
    "\n",
    "For fermionic Fock states, the `state` attribute is an instance of `int` which is the integer corresponding the occupation vector written in binary. For example, the state $|1,0\\rangle$ is mapped to the binary number $01$ which is $1$ in base $10$. Meanwhile, the state $|0,1\\rangle \\rightarrow 10 ~\\text{in binary} = 2 ~\\text{ in base} ~10$.\n",
    "\n",
    "For bosonic Fock states, `state` is an instance of `np.ndarray`, a numpy array. In this case, the occupation vector is mapped $1:1$ with the array, such that the $i$-th index of the array gives the occupation of the $i$-th effective site, i.e. `state[i]` $= n_i$. Unlike `fermion.fockstate`, `boson.fockstate` has a property called `tag`. This `tag` is a real number that uniquely identifies the occupation vector and is used to quickly compare two `boson.fockstate` when, say, projecting one state onto another.\n",
    "\n",
    "Let's create a few fermionic Fock states."
   ]
  },
  {
   "cell_type": "code",
   "execution_count": 9,
   "metadata": {},
   "outputs": [
    {
     "name": "stdout",
     "output_type": "stream",
     "text": [
      "fs0 =  (1+0j)|1000000000>\n",
      "fs1 =  (1+0j)|0100000000>\n",
      "fs1p =  2j|0100000000>\n",
      "Notice that the length of the occupation vector is 10, since the stored Neff variable = 10\n"
     ]
    }
   ],
   "source": [
    "state0 = 1\n",
    "state1 = 2\n",
    "state2 = 2; amp2 = 2j\n",
    "\n",
    "fs0 = edf.fockstate(state0)\n",
    "fs1 = edf.fockstate(state1)\n",
    "fs1p = edf.fockstate(state1, amp = amp2)\n",
    "\n",
    "# You can print the fock states see a human-readable string representation of the fock state\n",
    "print('fs0 = ', fs0)\n",
    "print('fs1 = ', fs1)\n",
    "print('fs1p = ', fs1p)\n",
    "\n",
    "print('Notice that the length of the occupation vector is 10, since the stored Neff variable = 10')"
   ]
  },
  {
   "cell_type": "markdown",
   "metadata": {},
   "source": [
    "An important thing to know is how to read the occupation vector when your model has multiple DoFs. The way effective site index $i$ is calculated, for a given set of DoFs {$d_0$, $d_1$,...} of dimension $D$, is as follows:\n",
    "$$ i = i_{d_0} + \\sum_{j=1}^{D-1} i_{d_j} \\prod_{i=0}^{j-1} N_{d_i} = i_{d_0} + i_{d_1}N_{d_0} + i_{d_2}N_{d_0}N_{d_1} + ...$$\n",
    "with $i_{d_j}$ the index of DoF $d_j$, where $N_{d_i}$ are the $N_{eigenvalues}$ of DoF $d_i$. In this example, the first DoF was $x$ and the second $s$ with $N_{eigenvalues} = 5, 2$, respectively, so:\n",
    "$$ i = i_{x} + 5\\cdot i_{s}$$\n",
    "If we follow the convention $i_{s = \\downarrow} = 0$ and $i_{s=\\uparrow} = 1$, then the first (last) $5$ effective sites correspond to the positions $x$ of the spin-down (spin-up) fermions."
   ]
  },
  {
   "cell_type": "markdown",
   "metadata": {},
   "source": [
    "#### Arithmetic and logic operations between `.fockstate` \n",
    "\n",
    "The `.fockstate` object was programmed with the typical arithmetic and logic operators a user might need, such as addition `+`, subtraction `-`, and equality `==`. The inner product is represented by the `*` operator so that $\\langle s_i| s_j \\rangle = $ `s_i * s_j`. Below is a reference guide to how all these operations work and the objects they map to."
   ]
  },
  {
   "cell_type": "code",
   "execution_count": 10,
   "metadata": {},
   "outputs": [
    {
     "name": "stdout",
     "output_type": "stream",
     "text": [
      "Unary operations\n",
      "+|fs0> = (1+0j)|1000000000> ; type -> <class 'edinpy.fermion.fermion.fockstate'>\n",
      "-|fs0> = (-1-0j)|1000000000> ; type -> <class 'edinpy.fermion.fermion.fockstate'>\n",
      "\n",
      " Arithmetic operations\n",
      "|fs0> + |fs1> = (1+0j)|1000000000> + (1+0j)|0100000000> ; type -> <class 'edinpy.fermion.fermion.statesum'>\n",
      "|fs0> - |fs1> = (1+0j)|1000000000> + (-1-0j)|0100000000> ; type -> <class 'edinpy.fermion.fermion.statesum'>\n",
      " -> Inner product\n",
      "<fs0|fs0> = (1+0j) ; type -> <class 'numpy.complex64'>\n",
      "<fs1|fs1> = (1+0j) ; type -> <class 'numpy.complex64'>\n",
      "<fs1p|fs1p> = (4+0j) ; type -> <class 'numpy.complex64'>\n",
      "<fs0|fs1> = 0 ; type -> <class 'int'>\n",
      "<fs1|fs0> = 0 ; type -> <class 'int'>\n",
      "<fs1|fs1p> = 2j ; type -> <class 'numpy.complex64'>\n",
      "<fs1p|fs1> = -2j ; type -> <class 'numpy.complex64'>\n",
      "\n",
      " Equality (checks equality of occupation vector but NOT amplitude)\n",
      "|fs0> == |fs0>? -> True ; type -> <class 'bool'>\n",
      "|fs1> == |fs0>? -> False ; type -> <class 'bool'>\n",
      "|fs1> == |fs1p>? -> True ; type -> <class 'bool'>\n",
      "\n",
      " Identity (checks if is the same instance)\n",
      "|fs1 is |fs1>? -> True ; type -> <class 'bool'>\n",
      "|fs1 is |fs1p>? -> False ; type -> <class 'bool'>\n"
     ]
    }
   ],
   "source": [
    "\n",
    "print('Unary operations')\n",
    "py_pos = +fs0\n",
    "py_neg = -fs0\n",
    "print('+|fs0> =', py_pos, '; type ->', type(py_pos))\n",
    "print('-|fs0> =', py_neg, '; type ->', type(py_neg))\n",
    "\n",
    "print('\\n Arithmetic operations')\n",
    "addition = fs0 + fs1\n",
    "subtraction = fs0 - fs1\n",
    "print('|fs0> + |fs1> =', addition, '; type ->', type(addition))\n",
    "print('|fs0> - |fs1> =', subtraction, '; type ->', type(subtraction))\n",
    "\n",
    "print(' -> Inner product')\n",
    "projection_00 = fs0*fs0\n",
    "projection_11 = fs1*fs1\n",
    "projection_22 = fs1p*fs1p\n",
    "projection_01 = fs0*fs1\n",
    "projection_10 = fs1*fs0\n",
    "projection_12 = fs1*fs1p\n",
    "projection_21 = fs1p*fs1\n",
    "print('<fs0|fs0> =', projection_00, '; type ->', type(projection_00))\n",
    "print('<fs1|fs1> =', projection_11, '; type ->', type(projection_11))\n",
    "print('<fs1p|fs1p> =', projection_22, '; type ->', type(projection_22))\n",
    "print('<fs0|fs1> =', projection_01, '; type ->', type(projection_01))\n",
    "print('<fs1|fs0> =', projection_10, '; type ->', type(projection_10))\n",
    "print('<fs1|fs1p> =', projection_12, '; type ->', type(projection_12))\n",
    "print('<fs1p|fs1> =', projection_21, '; type ->', type(projection_21))\n",
    "\n",
    "print('\\n Equality (checks equality of occupation vector but NOT amplitude)')\n",
    "equality_00 = fs0 == fs0\n",
    "equality_10 = fs1 == fs0\n",
    "equality_12 = fs1 == fs1p\n",
    "print('|fs0> == |fs0>? ->', equality_00, '; type ->', type(equality_00))\n",
    "print('|fs1> == |fs0>? ->', equality_10, '; type ->', type(equality_10))\n",
    "print('|fs1> == |fs1p>? ->', equality_12, '; type ->', type(equality_12))\n",
    "\n",
    "print('\\n Identity (checks if is the same instance)')\n",
    "py_is_11 = fs1 is fs1\n",
    "py_is_12 = fs1 is fs1p\n",
    "print('|fs1 is |fs1>? ->', py_is_11, '; type ->', type(py_is_11))\n",
    "print('|fs1 is |fs1p>? ->', py_is_12, '; type ->', type(py_is_12))"
   ]
  },
  {
   "cell_type": "markdown",
   "metadata": {},
   "source": [
    "#### The `.vacuum` subclass\n",
    "\n",
    "A special subclass of `.fockstate` is the `.vacuum` object. This object represents the vacuum state of the system where no particles exist. This has the same attributes as a `.fockstate` but the algebra involving `.vacuum` states has been streamlined."
   ]
  },
  {
   "cell_type": "code",
   "execution_count": 11,
   "metadata": {},
   "outputs": [
    {
     "name": "stdout",
     "output_type": "stream",
     "text": [
      "|vacuum> = (1+0j)|0>\n"
     ]
    }
   ],
   "source": [
    "vac = edf.vacuum(amp = 1)\n",
    "print('|vacuum> =', vac)"
   ]
  },
  {
   "cell_type": "markdown",
   "metadata": {},
   "source": [
    "### The `boson.bosonspace` and `fermion.fermionspace` classes\n",
    "\n",
    "When you call the `.model` class, an instance of either `.bosonspace` or `.fermionspace` is created and stored in the attribute `model.fockspace`, whichever is appropriate. Although not very functional for the user at the moment, these classes calculate and store the Fock basis vectors. The user can access the Fock space and its attributes from the `.model` instance as follows:"
   ]
  },
  {
   "cell_type": "code",
   "execution_count": 12,
   "metadata": {},
   "outputs": [
    {
     "name": "stdout",
     "output_type": "stream",
     "text": [
      "Fock space type: <class 'edinpy.fermion.fermion.fermionspace'>\n",
      "\n",
      " You can print out all the basis vectors by calling the function show():\n",
      "state 0: (1+0j)|1000000000>\n",
      "state 1: (1+0j)|0100000000>\n",
      "state 2: (1+0j)|0010000000>\n",
      "state 3: (1+0j)|0001000000>\n",
      "state 4: (1+0j)|0000100000>\n",
      "state 5: (1+0j)|0000010000>\n",
      "state 6: (1+0j)|0000001000>\n",
      "state 7: (1+0j)|0000000100>\n",
      "state 8: (1+0j)|0000000010>\n",
      "state 9: (1+0j)|0000000001>\n",
      "\n",
      " The basis vectors are stored in a list called basis\n",
      "ffs.basis[0] = (1+0j)|1000000000>\n",
      "ffs.basis[1] = (1+0j)|0100000000>\n"
     ]
    }
   ],
   "source": [
    "ffs = mf.fockspace\n",
    "print('Fock space type:', type(ffs))\n",
    "\n",
    "print('\\n You can print out all the basis vectors by calling the function show():')\n",
    "ffs.show()\n",
    "\n",
    "print('\\n The basis vectors are stored in a list called basis')\n",
    "fs0 = ffs.basis[0]\n",
    "fs1 = ffs.basis[1]\n",
    "\n",
    "print('ffs.basis[0] =', fs0)\n",
    "print('ffs.basis[1] =', fs1)"
   ]
  },
  {
   "cell_type": "markdown",
   "metadata": {},
   "source": [
    "### The `.operator` class\n",
    "\n",
    "Once you build the model, you can construct the operators which act on the Fock space of your model. The `.operator` object is the computer representation of the annihilation operator. Let's see how to define our operators."
   ]
  },
  {
   "cell_type": "code",
   "execution_count": 13,
   "metadata": {},
   "outputs": [
    {
     "name": "stdout",
     "output_type": "stream",
     "text": [
      "\u001b[1;31mInit signature:\u001b[0m \u001b[0medf\u001b[0m\u001b[1;33m.\u001b[0m\u001b[0moperator\u001b[0m\u001b[1;33m(\u001b[0m\u001b[0mindices\u001b[0m\u001b[1;33m)\u001b[0m\u001b[1;33m\u001b[0m\u001b[1;33m\u001b[0m\u001b[0m\n",
      "\u001b[1;31mDocstring:\u001b[0m     \n",
      "Create an annihilation operator.\n",
      "\n",
      "Parameters\n",
      "----------\n",
      "indices : iterable or int\n",
      "    The indices which the operator acts on. If `indices` is an `int` then it is assumed \n",
      "    to refer to the effective site.\n",
      "\u001b[1;31mFile:\u001b[0m           c:\\users\\alexs\\miniconda3\\lib\\site-packages\\edinpy\\fermion\\fermion.py\n",
      "\u001b[1;31mType:\u001b[0m           type\n",
      "\u001b[1;31mSubclasses:\u001b[0m     dagger, number"
     ]
    }
   ],
   "source": [
    "edf.operator?"
   ]
  },
  {
   "cell_type": "markdown",
   "metadata": {},
   "source": [
    "As you can see, the only thing we need to input as a parameter are the indices. The `indices` parameter can be any iterable (such as a `tuple`), where the entries preserve the order in which the DoFs were created. For example, our model has 2 DoFs, $x$ and $s$, in that order, so `indices` should be of the form $(i_{x}, i_{s})$. Below, the most convenient way to construct annihilation operators is shown:"
   ]
  },
  {
   "cell_type": "code",
   "execution_count": 14,
   "metadata": {},
   "outputs": [
    {
     "name": "stdout",
     "output_type": "stream",
     "text": [
      "c0 = c₀,₀\n",
      "c0 indices: (0, 0)\n",
      "c0 effective site: 0\n",
      "\n",
      "Here's some more operators:\n",
      "operators: c₁,₀ c₄,₀ c₀,₁\n",
      "indices: (1, 0) (4, 0) (0, 1)\n",
      "effective sites: 1 4 5\n"
     ]
    }
   ],
   "source": [
    "# For convenience, we first assign the operator class to a variable\n",
    "c = edf.operator\n",
    "\n",
    "# To get the annihilation operator which acts on position x = 0 and s = spin-down we write\n",
    "c0 = c((0,0))\n",
    "\n",
    "# We can double-check by printing the operator we just created\n",
    "print('c0 =', c0)\n",
    "print('c0 indices:', c0.indices) # we can print the indices of the operator\n",
    "print('c0 effective site:', c0.site) # and the effective site it acts on\n",
    "\n",
    "print('\\nHere\\'s some more operators:') \n",
    "print('operators:', c((1,0)), c((4,0)), c((0,1)))\n",
    "print('indices:', c((1,0)).indices, c((4,0)).indices, c((0,1)).indices)\n",
    "print('effective sites:', c((1,0)).site, c((4,0)).site, c((0,1)).site)\n"
   ]
  },
  {
   "cell_type": "markdown",
   "metadata": {},
   "source": [
    "#### The `.dagger` subclass\n",
    "\n",
    "The `.dagger` object is a subclass of `.operator` representing the dagger operation or Hermitian adjoint $\\dagger$. This object let's the user construct creation operators by taking the Hermitian adjoint of an annihilation operator. Like so,"
   ]
  },
  {
   "cell_type": "code",
   "execution_count": 15,
   "metadata": {},
   "outputs": [
    {
     "name": "stdout",
     "output_type": "stream",
     "text": [
      "c0† = c†₀,₀\n",
      "c0† indices: (0, 0)\n",
      "c0† effective site: 0\n",
      "\n",
      "Here's some more creation operators:\n",
      "operators: c†₁,₀ c†₄,₀ c†₀,₁\n",
      "indices: (1, 0) (4, 0) (0, 1)\n",
      "effective sites: 1 4 5\n"
     ]
    }
   ],
   "source": [
    "c0dagger = c((0,0)).dag\n",
    "\n",
    "# We can double-check by printing the operator we just created\n",
    "print('c0† =', c0dagger)\n",
    "print('c0† indices:', c0dagger.indices) # Note that the indices and the effective site\n",
    "print('c0† effective site:', c0dagger.site) # it acts on are the same as the annihilation operator\n",
    "\n",
    "print('\\nHere\\'s some more creation operators:') \n",
    "print('operators:', c((1,0)).dag, c((4,0)).dag, c((0,1)).dag)\n",
    "print('indices:', c((1,0)).dag.indices, c((4,0)).dag.indices, c((0,1)).dag.indices)\n",
    "print('effective sites:', c((1,0)).dag.site, c((4,0)).dag.site, c((0,1)).dag.site)"
   ]
  },
  {
   "cell_type": "markdown",
   "metadata": {},
   "source": [
    "#### The `.number` subclass\n",
    "\n",
    "The `.number` subclass represents the number operator $\\hat{n}_i = \\hat{c}^\\dagger_i \\hat{c}_i$. Creating a number operator is functionally the same as the creating an annihilation operator with `.operator`:"
   ]
  },
  {
   "cell_type": "code",
   "execution_count": 16,
   "metadata": {},
   "outputs": [
    {
     "name": "stdout",
     "output_type": "stream",
     "text": [
      "operators: n₀,₀ n₁,₀ n₄,₀ n₀,₁\n",
      "indices: (0, 0) (1, 0) (4, 0) (0, 1)\n",
      "effective sites: 0 1 4 5\n",
      "daggered operators: n₀,₀ n₁,₀ n₄,₀ n₀,₁\n"
     ]
    }
   ],
   "source": [
    "# First we assign the number class to a convenient variable\n",
    "n = edf.number\n",
    "\n",
    "# Now just give n an indices iterable to create number operators\n",
    "print('operators:', n((0,0)), n((1,0)), n((4,0)), n((0,1)))\n",
    "print('indices:', n((0,0)).indices, n((1,0)).indices, n((4,0)).indices, n((0,1)).indices)\n",
    "print('effective sites:', n((0,0)).site, n((1,0)).site, n((4,0)).site, n((0,1)).site)\n",
    "\n",
    "# Obviously, the Hermitian adjoint of a number operator should return itself\n",
    "print('daggered operators:', n((0,0)).dag, n((1,0)).dag, n((4,0)).dag, n((0,1)).dag)"
   ]
  },
  {
   "cell_type": "markdown",
   "metadata": {},
   "source": [
    "#### Algebra between `.operator` and `.fockstate`\n",
    "\n",
    "The product between an operator $c$ and a ket $|s\\rangle$ is represented by the `*` operator, so that $c|s\\rangle \\rightarrow$ `c(i)*s`. Likewise, the action of a bra $\\langle s |$ on an operator can be written as $\\langle s|c \\rightarrow$ `s*c(i)`. \n",
    "\n",
    "Below is a reference guide to how operator-state algrebra work and the objects they map to:"
   ]
  },
  {
   "cell_type": "code",
   "execution_count": 17,
   "metadata": {},
   "outputs": [
    {
     "name": "stdout",
     "output_type": "stream",
     "text": [
      "Fock states\n",
      "|fs0> = (1+0j)|1000000000>\n",
      "|fs1> = (1+0j)|0100000000>\n",
      "\n",
      "Annihilation operator acting on fock states:\n",
      "c0|fs0> = (1+0j)|0> ; type -> <class 'edinpy.fermion.fermion.vacuum'>\n",
      "c0|fs1> = 0 ; type -> <class 'edinpy.fermion.fermion.null'>\n",
      "c1|fs0> = 0 ; type -> <class 'edinpy.fermion.fermion.null'>\n",
      "c1|fs1> = (1+0j)|0> ; type -> <class 'edinpy.fermion.fermion.vacuum'>\n",
      "\n",
      "Creation operator acting on fock states:\n",
      "c0†|fs0> = 0 ; type -> <class 'edinpy.fermion.fermion.null'>\n",
      "c0†|fs1> = (1+0j)|1100000000> ; type -> <class 'edinpy.fermion.fermion.fockstate'>\n",
      "c1†|fs0> = (1+0j)|1100000000> ; type -> <class 'edinpy.fermion.fermion.fockstate'>\n",
      "c1†|fs1> = 0 ; type -> <class 'edinpy.fermion.fermion.null'>\n",
      "\n",
      "Operators acting on bras:\n",
      "<fs0|c0 = 0 ; type -> <class 'edinpy.fermion.fermion.null'>\n",
      "<fs0|c1 = (1-0j)|1100000000> ; type -> <class 'edinpy.fermion.fermion.fockstate'>\n",
      "<fs0|c0† = (1-0j)|0> ; type -> <class 'edinpy.fermion.fermion.vacuum'>\n",
      "<fs0|c1† = 0 ; type -> <class 'edinpy.fermion.fermion.null'>\n",
      "\n",
      "Operators acting on linear combinations of fock states:\n",
      "c0(|fs0> + |fs1>) = (1+0j)|0> ; type -> <class 'edinpy.fermion.fermion.vacuum'>\n",
      "c0†(|fs0> + |fs1>) = (1+0j)|1100000000> ; type -> <class 'edinpy.fermion.fermion.fockstate'>\n",
      "c1(|fs0> + |fs1>) = (1+0j)|0> ; type -> <class 'edinpy.fermion.fermion.vacuum'>\n",
      "c1†(|fs0> + |fs1>) = (1+0j)|1100000000> ; type -> <class 'edinpy.fermion.fermion.fockstate'>\n"
     ]
    }
   ],
   "source": [
    "print('Fock states')\n",
    "print('|fs0> =', fs0)\n",
    "print('|fs1> =', fs1)\n",
    "\n",
    "print('\\nAnnihilation operator acting on fock states:')\n",
    "print('c0|fs0> =', c((0,0))*fs0, '; type ->', type(c((0,0))*fs0))\n",
    "print('c0|fs1> =', c((0,0))*fs1, '; type ->', type(c((0,0))*fs1))\n",
    "print('c1|fs0> =', c((1,0))*fs0, '; type ->', type(c((1,0))*fs0))\n",
    "print('c1|fs1> =', c((1,0))*fs1, '; type ->', type(c((1,0))*fs1))\n",
    "\n",
    "print('\\nCreation operator acting on fock states:')\n",
    "print('c0†|fs0> =', c((0,0)).dag*fs0, '; type ->', type(c((0,0)).dag*fs0))\n",
    "print('c0†|fs1> =', c((0,0)).dag*fs1, '; type ->', type(c((0,0)).dag*fs1))\n",
    "print('c1†|fs0> =', c((1,0)).dag*fs0, '; type ->', type(c((1,0)).dag*fs0))\n",
    "print('c1†|fs1> =', c((1,0)).dag*fs1, '; type ->', type(c((1,0)).dag*fs1))\n",
    "\n",
    "print('\\nOperators acting on bras:')\n",
    "print('<fs0|c0 =', fs0*c((0,0)), '; type ->', type(fs0*c((0,0))))\n",
    "print('<fs0|c1 =', fs0*c((1,0)), '; type ->', type(fs0*c((1,0))))\n",
    "print('<fs0|c0† =', fs0*c((0,0)).dag, '; type ->', type(fs0*c((0,0)).dag))\n",
    "print('<fs0|c1† =', fs0*c((1,0)).dag, '; type ->', type(fs0*c((1,0)).dag))\n",
    "\n",
    "print('\\nOperators acting on linear combinations of fock states:')\n",
    "print('c0(|fs0> + |fs1>) =', c((0,0))*(fs0 + fs1), '; type ->', type(c((0,0))*(fs0 + fs1)))\n",
    "print('c0†(|fs0> + |fs1>) =', c((0,0)).dag*(fs0 + fs1), '; type ->', type(c((0,0)).dag*(fs0 + fs1)))\n",
    "print('c1(|fs0> + |fs1>) =', c((1,0))*(fs0 + fs1), '; type ->', type(c((1,0))*(fs0 + fs1)))\n",
    "print('c1†(|fs0> + |fs1>) =', c((1,0)).dag*(fs0 + fs1), '; type ->', type(c((1,0)).dag*(fs0 + fs1)))"
   ]
  },
  {
   "cell_type": "markdown",
   "metadata": {},
   "source": [
    "#### Arithmetic between `.operator` instances\n",
    "\n",
    "The typical arithmetic between operators is also possible. The sum of operators is represented by `+` and the product by `*`. Operator products and sums act on Fock state in the conventional manner.\n",
    "\n",
    "Below is a reference guide to how all operator algebra works in EDinPy and the objects they map to:"
   ]
  },
  {
   "cell_type": "code",
   "execution_count": 18,
   "metadata": {},
   "outputs": [
    {
     "name": "stdout",
     "output_type": "stream",
     "text": [
      "Sum of operators:\n",
      "c0 + c1 -> c₀,₀ + c₁,₀ ; type -> <class 'edinpy.fermion.fermion.operatorsum'>\n",
      "c0† + c1 -> c†₀,₀ + c₁,₀ ; type -> <class 'edinpy.fermion.fermion.operatorsum'>\n",
      "(c0 + c1)† -> c†₀,₀ + c†₁,₀ ; type -> <class 'edinpy.fermion.fermion.operatorsum'>\n",
      " - Action on Fock states:\n",
      "(c0 + c1)|fs0> = (1+0j)|0> ; type -> <class 'edinpy.fermion.fermion.vacuum'>\n",
      "(c0† + c1)|fs0> = 0 ; type -> <class 'edinpy.fermion.fermion.null'>\n",
      "(c0 + c1)†|fs0> -> (1+0j)|1100000000> ; type -> <class 'edinpy.fermion.fermion.fockstate'>\n",
      "\n",
      "Product of operators:\n",
      "c0*c1 -> c₀,₀c₁,₀ ; type -> <class 'edinpy.fermion.fermion.operatorproduct'>\n",
      "c0*c1† -> c₀,₀c†₁,₀ ; type -> <class 'edinpy.fermion.fermion.operatorproduct'>\n",
      "(c0*c1†)† -> c₁,₀c†₀,₀ ; type -> <class 'edinpy.fermion.fermion.operatorproduct'>\n",
      " - Action on Fock states:\n",
      "c0*c1|fs0> = 0 ; type -> <class 'edinpy.fermion.fermion.null'>\n",
      "c0*c1†|fs0> = (1+0j)|0100000000> ; type -> <class 'edinpy.fermion.fermion.fockstate'>\n",
      "(c0*c1†)†|fs0> -> 0 ; type -> <class 'edinpy.fermion.fermion.null'>\n"
     ]
    }
   ],
   "source": [
    "print('Sum of operators:')\n",
    "print('c0 + c1 ->', c((0,0)) + c((1,0)), '; type ->', type(c((0,0)) + c((1,0))))\n",
    "print('c0† + c1 ->', c((0,0)).dag + c((1,0)), '; type ->', type(c((0,0)).dag + c((1,0))))\n",
    "print('(c0 + c1)† ->', (c((0,0)) + c((1,0))).dag, '; type ->', type((c((0,0)) + c((1,0))).dag))\n",
    "print(' - Action on Fock states:')\n",
    "print('(c0 + c1)|fs0> =', (c((0,0)) + c((1,0)))*fs0, '; type ->', type((c((0,0)) + c((1,0)))*fs0))\n",
    "print('(c0† + c1)|fs0> =', (c((0,0)).dag + c((1,0)))*fs0, '; type ->', type((c((0,0)).dag + c((1,0)))*fs0))\n",
    "print('(c0 + c1)†|fs0> ->', (c((0,0)) + c((1,0))).dag*fs0, '; type ->', type((c((0,0)) + c((1,0))).dag*fs0))\n",
    "\n",
    "print('\\nProduct of operators:')\n",
    "print('c0*c1 ->', c((0,0))*c((1,0)), '; type ->', type(c((0,0))*c((1,0))))\n",
    "print('c0*c1† ->', c((0,0))*c((1,0)).dag, '; type ->', type(c((0,0))*c((1,0)).dag))\n",
    "print('(c0*c1†)† ->', (c((0,0))*c((1,0)).dag).dag, '; type ->', type((c((0,0))*c((1,0)).dag).dag))\n",
    "print(' - Action on Fock states:')\n",
    "print('c0*c1|fs0> =', c((0,0))*c((1,0))*fs0, '; type ->', type(c((0,0))*c((1,0))*fs0))\n",
    "print('c0*c1†|fs0> =', c((0,0))*c((1,0)).dag*fs0, '; type ->', type(c((0,0))*c((1,0)).dag*fs0))\n",
    "print('(c0*c1†)†|fs0> ->', (c((0,0))*c((1,0)).dag).dag*fs0, '; type ->', type((c((0,0))*c((1,0)).dag).dag*fs0))"
   ]
  },
  {
   "cell_type": "markdown",
   "metadata": {},
   "source": [
    "### The `.null` class\n",
    "\n",
    "The `.null` object is a special class which represents the additive identity for Fock states and operators. Adding any object to `.null` or vice versa will return itself.\n",
    "\n",
    "This object is convenient to use when initalizing a variable for a sum or product, then using the in-place operators `+=` and `*=`. For example, consider the following Hamiltonian:\n",
    "\n",
    "$$ H = \\sum_{s = 0}^{1}\\sum_{x = 0}^{L-1} c_{x+1,s}^\\dagger c_{x,s} + c_{x,s}^\\dagger c_{x+1,s}$$\n",
    "\n",
    "This double sum can be programmed as follows:"
   ]
  },
  {
   "cell_type": "code",
   "execution_count": 19,
   "metadata": {},
   "outputs": [
    {
     "name": "stdout",
     "output_type": "stream",
     "text": [
      "We can double check our Hamiltonian by printing it\n",
      "H =  c†₁,₀c₀,₀ + c†₀,₀c₁,₀ + c†₂,₀c₁,₀ + c†₁,₀c₂,₀ + c†₃,₀c₂,₀ + c†₂,₀c₃,₀ + c†₄,₀c₃,₀ + c†₃,₀c₄,₀ + c†₁,₁c₀,₁ + c†₀,₁c₁,₁ + c†₂,₁c₁,₁ + c†₁,₁c₂,₁ + c†₃,₁c₂,₁ + c†₂,₁c₃,₁ + c†₄,₁c₃,₁ + c†₃,₁c₄,₁\n"
     ]
    }
   ],
   "source": [
    "H = edf.null()\n",
    "\n",
    "for s in range(spin.N):\n",
    "    for i in range(x.N-1):\n",
    "        H += (c((i+1,s)).dag * c((i,s)) + c((i,s)).dag * c((i+1,s)))\n",
    "\n",
    "print('We can double check our Hamiltonian by printing it')\n",
    "print('H = ', H)"
   ]
  },
  {
   "cell_type": "markdown",
   "metadata": {},
   "source": [
    "### The `.scalar` class\n",
    "\n",
    "As its name implies, the `.scalar` class represent complex scalars. Though EDinPy is programmed to handle python scalars (such as `int`, `float`, and `complex`) and its arithmetic with `.fockstate`s and `.operators`, `.scalar`s group all that functionality under a single class. A convenient feature of `.scalar`s is permitting the user to assign a `str` label to scalars, so that keeping track of different terms is much simpler.\n",
    "\n",
    "Let's add a hopping amplitude to the previous Hamiltonian:"
   ]
  },
  {
   "cell_type": "code",
   "execution_count": 20,
   "metadata": {},
   "outputs": [
    {
     "name": "stdout",
     "output_type": "stream",
     "text": [
      "Printing t will return the numerical value of t: 2\n",
      "while f-strings will return the label: t\n",
      "\n",
      "We can multiply the Hamilonian by t to get:\n",
      "t*H = tc†₁,₀c₀,₀ + tc†₀,₀c₁,₀ + tc†₂,₀c₁,₀ + tc†₁,₀c₂,₀ + tc†₃,₀c₂,₀ + tc†₂,₀c₃,₀ + tc†₄,₀c₃,₀ + tc†₃,₀c₄,₀ + tc†₁,₁c₀,₁ + tc†₀,₁c₁,₁ + tc†₂,₁c₁,₁ + tc†₁,₁c₂,₁ + tc†₃,₁c₂,₁ + tc†₂,₁c₃,₁ + tc†₄,₁c₃,₁ + tc†₃,₁c₄,₁\n",
      "\n",
      "Note that this is equivalent to multiplying by the numerical value of t:\n",
      "2*H = 2c†₁,₀c₀,₀ + 2c†₀,₀c₁,₀ + 2c†₂,₀c₁,₀ + 2c†₁,₀c₂,₀ + 2c†₃,₀c₂,₀ + 2c†₂,₀c₃,₀ + 2c†₄,₀c₃,₀ + 2c†₃,₀c₄,₀ + 2c†₁,₁c₀,₁ + 2c†₀,₁c₁,₁ + 2c†₂,₁c₁,₁ + 2c†₁,₁c₂,₁ + 2c†₃,₁c₂,₁ + 2c†₂,₁c₃,₁ + 2c†₄,₁c₃,₁ + 2c†₃,₁c₄,₁\n"
     ]
    }
   ],
   "source": [
    "# Creating a scalar 't' to represent the hopping amplitude\n",
    "t = edf.scalar(2,'t')\n",
    "print('Printing t will return the numerical value of t:', t)\n",
    "print('while f-strings will return the label:', f'{t}')\n",
    "\n",
    "# We can multiply the scalar by the Hamilonian to include the hopping\n",
    "print('\\nWe can multiply the Hamilonian by t to get:')\n",
    "print('t*H =', t*H)\n",
    "print('\\nNote that this is equivalent to multiplying by the numerical value of t:')\n",
    "print('2*H =', 2*H)\n"
   ]
  },
  {
   "cell_type": "markdown",
   "metadata": {},
   "source": [
    "We can alternatively recalculate the Hamiltonian from scratch. Let's include some periodic boundary conditions this time:"
   ]
  },
  {
   "cell_type": "code",
   "execution_count": 21,
   "metadata": {},
   "outputs": [
    {
     "name": "stdout",
     "output_type": "stream",
     "text": [
      "\n",
      "From scratch:\n",
      "(-1)tc†₁,₀c₀,₀ + (-1)tc†₀,₀c₁,₀ + (-1)tc†₂,₀c₁,₀ + (-1)tc†₁,₀c₂,₀ + (-1)tc†₃,₀c₂,₀ + (-1)tc†₂,₀c₃,₀ + (-1)tc†₄,₀c₃,₀ + (-1)tc†₃,₀c₄,₀ + (-1)tc†₁,₁c₀,₁ + (-1)tc†₀,₁c₁,₁ + (-1)tc†₂,₁c₁,₁ + (-1)tc†₁,₁c₂,₁ + (-1)tc†₃,₁c₂,₁ + (-1)tc†₂,₁c₃,₁ + (-1)tc†₄,₁c₃,₁ + (-1)tc†₃,₁c₄,₁ + (-1)tc†₀,₀c₄,₀ + (-1)tc†₄,₀c₀,₀ + (-1)tc†₀,₁c₄,₁ + (-1)tc†₄,₁c₀,₁\n"
     ]
    }
   ],
   "source": [
    "H = edf.null()\n",
    "\n",
    "# Hopping terms\n",
    "for s in range(spin.N):\n",
    "    for i in range(x.N-1):\n",
    "        H += -t * (c((i+1,s)).dag * c((i,s)) + c((i,s)).dag * c((i+1,s)))\n",
    "\n",
    "# Periodic boundary conditions\n",
    "for s in range(spin.N):\n",
    "    H += -t * (c((0,s)).dag * c((x.N-1,s)) + c((x.N-1,s)).dag * c((0,s)))\n",
    "\n",
    "print('\\nFrom scratch:')\n",
    "print(H)"
   ]
  },
  {
   "cell_type": "markdown",
   "metadata": {},
   "source": [
    "### The `.hamiltonian` class\n",
    "\n",
    "Now that we've written our Hamiltonian in second quantization notation, we need to call the `.hamiltonian` class. This class holds the functions that will allow the user to calculate the matrix form of the Hamiltonian and its eigensolutions."
   ]
  },
  {
   "cell_type": "code",
   "execution_count": 22,
   "metadata": {},
   "outputs": [
    {
     "name": "stdout",
     "output_type": "stream",
     "text": [
      "\u001b[1;31mInit signature:\u001b[0m \u001b[0medf\u001b[0m\u001b[1;33m.\u001b[0m\u001b[0mhamiltonian\u001b[0m\u001b[1;33m(\u001b[0m\u001b[0mobj\u001b[0m\u001b[1;33m)\u001b[0m\u001b[1;33m\u001b[0m\u001b[1;33m\u001b[0m\u001b[0m\n",
      "\u001b[1;31mDocstring:\u001b[0m     \n",
      "Create a hamiltonian.\n",
      "\n",
      "Parameters\n",
      "----------\n",
      "obj : operator, operatorsum, operatorproduct or hamiltonian\n",
      "    Operator form of the hamiltonian\n",
      "\u001b[1;31mFile:\u001b[0m           c:\\users\\alexs\\miniconda3\\lib\\site-packages\\edinpy\\fermion\\fermion.py\n",
      "\u001b[1;31mType:\u001b[0m           type\n",
      "\u001b[1;31mSubclasses:\u001b[0m     "
     ]
    }
   ],
   "source": [
    "edf.hamiltonian?"
   ]
  },
  {
   "cell_type": "markdown",
   "metadata": {},
   "source": [
    "The `.hamiltonian` class contains a method called `.calc_matrix()` which will calculate the sparse matrix form of the Hamiltonian, but this is not necessary. You can simply call the properties `.array` and `.sparse` to automatically calculate and return the dense and sparse matrix forms, respectively. Take a look at how to do this:"
   ]
  },
  {
   "cell_type": "code",
   "execution_count": 23,
   "metadata": {},
   "outputs": [
    {
     "name": "stdout",
     "output_type": "stream",
     "text": [
      "Hamiltonian in operator form:\n",
      "H =  (-1)tc†₁,₀c₀,₀ + (-1)tc†₀,₀c₁,₀ + (-1)tc†₂,₀c₁,₀ + (-1)tc†₁,₀c₂,₀ + (-1)tc†₃,₀c₂,₀ + (-1)tc†₂,₀c₃,₀ + (-1)tc†₄,₀c₃,₀ + (-1)tc†₃,₀c₄,₀ + (-1)tc†₁,₁c₀,₁ + (-1)tc†₀,₁c₁,₁ + (-1)tc†₂,₁c₁,₁ + (-1)tc†₁,₁c₂,₁ + (-1)tc†₃,₁c₂,₁ + (-1)tc†₂,₁c₃,₁ + (-1)tc†₄,₁c₃,₁ + (-1)tc†₃,₁c₄,₁ + (-1)tc†₀,₀c₄,₀ + (-1)tc†₄,₀c₀,₀ + (-1)tc†₀,₁c₄,₁ + (-1)tc†₄,₁c₀,₁\n",
      "Calculating matrix elements of Hamiltonian.\n",
      "row: 100.00%, column: 100.00%\n",
      "\n",
      "Hamiltonian in dense matrix form (type: <class 'numpy.ndarray'>):\n",
      "[[ 0. -2.  0.  0. -2.  0.  0.  0.  0.  0.]\n",
      " [-2.  0. -2.  0.  0.  0.  0.  0.  0.  0.]\n",
      " [ 0. -2.  0. -2.  0.  0.  0.  0.  0.  0.]\n",
      " [ 0.  0. -2.  0. -2.  0.  0.  0.  0.  0.]\n",
      " [-2.  0.  0. -2.  0.  0.  0.  0.  0.  0.]\n",
      " [ 0.  0.  0.  0.  0.  0. -2.  0.  0. -2.]\n",
      " [ 0.  0.  0.  0.  0. -2.  0. -2.  0.  0.]\n",
      " [ 0.  0.  0.  0.  0.  0. -2.  0. -2.  0.]\n",
      " [ 0.  0.  0.  0.  0.  0.  0. -2.  0. -2.]\n",
      " [ 0.  0.  0.  0.  0. -2.  0.  0. -2.  0.]]\n",
      "\n",
      "Hamiltonian in csr sparse matrix form (type: <class 'scipy.sparse._arrays.csr_array'>):\n",
      "  (0, 1)\t(-2+0j)\n",
      "  (0, 4)\t(-2+0j)\n",
      "  (1, 0)\t(-2+0j)\n",
      "  (1, 2)\t(-2+0j)\n",
      "  (2, 1)\t(-2+0j)\n",
      "  (2, 3)\t(-2+0j)\n",
      "  (3, 2)\t(-2+0j)\n",
      "  (3, 4)\t(-2+0j)\n",
      "  (4, 0)\t(-2+0j)\n",
      "  (4, 3)\t(-2+0j)\n",
      "  (5, 6)\t(-2+0j)\n",
      "  (5, 9)\t(-2+0j)\n",
      "  (6, 5)\t(-2+0j)\n",
      "  (6, 7)\t(-2+0j)\n",
      "  (7, 6)\t(-2+0j)\n",
      "  (7, 8)\t(-2+0j)\n",
      "  (8, 7)\t(-2+0j)\n",
      "  (8, 9)\t(-2+0j)\n",
      "  (9, 5)\t(-2+0j)\n",
      "  (9, 8)\t(-2+0j)\n",
      "\n",
      "An easy way to visualize an array is with pyplot.imshow and using array logic operators:\n"
     ]
    },
    {
     "data": {
      "text/plain": [
       "Text(0.5, 1.0, 'Non-zero elements of H:')"
      ]
     },
     "execution_count": 23,
     "metadata": {},
     "output_type": "execute_result"
    },
    {
     "data": {
      "image/png": "[encoded data removed]",
      "text/plain": [
       "<Figure size 640x480 with 1 Axes>"
      ]
     },
     "metadata": {},
     "output_type": "display_data"
    }
   ],
   "source": [
    "H = edf.hamiltonian(H)\n",
    "\n",
    "print('Hamiltonian in operator form:')\n",
    "print('H = ', H.opform)\n",
    "\n",
    "print(f'\\nHamiltonian in dense matrix form (type: {type(H.array)}):')\n",
    "print(H.array.real)\n",
    "\n",
    "print(f'\\nHamiltonian in csr sparse matrix form (type: {type(H.sparse)}):')\n",
    "print(H.sparse)\n",
    "\n",
    "print('\\nAn easy way to visualize an array is with pyplot.imshow and using array logic operators:')\n",
    "from matplotlib import pyplot as plt\n",
    "plt.imshow(H.array.real !=0, cmap = 'Blues' )\n",
    "plt.title('Non-zero elements of H:')\n",
    "\n"
   ]
  },
  {
   "cell_type": "markdown",
   "metadata": {},
   "source": [
    "#### The `.eigsolve()` method\n",
    "\n",
    "Finally, once we've constructed our Hamiltonian object, we can solve for its eigenvalues and eigensolutions. To do this, we can use the built-in `.eigsolve()` method. This method uses either the dense numpy eigensolver or the scipy sparse eigensolver depending on the value of the argument `sparse`. If `sparse = True`, then `scipy.sparse.linalg.eigsh` is called, otherwise `numpy.linalg.eigh` is called. The `numeigs` and `which` arguments are passed to `.eigsh`. The eigenvalues and eigenvectors are stored in the attributes `.eigvals` and `.eigvecs`, respectively."
   ]
  },
  {
   "cell_type": "code",
   "execution_count": 24,
   "metadata": {},
   "outputs": [
    {
     "name": "stdout",
     "output_type": "stream",
     "text": [
      "\u001b[1;31mSignature:\u001b[0m \u001b[0medf\u001b[0m\u001b[1;33m.\u001b[0m\u001b[0mhamiltonian\u001b[0m\u001b[1;33m.\u001b[0m\u001b[0meigsolve\u001b[0m\u001b[1;33m(\u001b[0m\u001b[0mself\u001b[0m\u001b[1;33m,\u001b[0m \u001b[0msparse\u001b[0m\u001b[1;33m=\u001b[0m\u001b[1;32mTrue\u001b[0m\u001b[1;33m,\u001b[0m \u001b[0mnumeigs\u001b[0m\u001b[1;33m=\u001b[0m\u001b[1;36m2\u001b[0m\u001b[1;33m,\u001b[0m \u001b[0mwhich\u001b[0m\u001b[1;33m=\u001b[0m\u001b[1;34m'SA'\u001b[0m\u001b[1;33m)\u001b[0m\u001b[1;33m\u001b[0m\u001b[1;33m\u001b[0m\u001b[0m\n",
      "\u001b[1;31mDocstring:\u001b[0m\n",
      "Calculate the eigenvalues and eigenvectors of the Hamiltonian.\n",
      "\n",
      "Parameters\n",
      "----------\n",
      "sparse : bool\n",
      "    Determine whether to calculate the eigensystem using sparse or dense linear algebra.\n",
      "numeigs : int\n",
      "    Number of eigenvalues and eigenvectors to return. Set to `'all'` to return all eigenvalues. \n",
      "which : str\n",
      "    Determine the order in which to calculate the eigenvalues. See `scipy.sparse.linalg.eigsh`.\n",
      "\u001b[1;31mFile:\u001b[0m      c:\\users\\alexs\\miniconda3\\lib\\site-packages\\edinpy\\fermion\\fermion.py\n",
      "\u001b[1;31mType:\u001b[0m      function"
     ]
    }
   ],
   "source": [
    "edf.hamiltonian.eigsolve?"
   ]
  },
  {
   "cell_type": "code",
   "execution_count": 25,
   "metadata": {},
   "outputs": [
    {
     "name": "stdout",
     "output_type": "stream",
     "text": [
      "eigenvalues: [-3.9999998 -4.       ]\n",
      "eigenvectors:\n",
      "[[-0.25499994+0.26569548j  0.15574308-0.0391747j ]\n",
      " [-0.25500008+0.2656954j   0.15574305-0.03917472j]\n",
      " [-0.255     +0.2656954j   0.15574306-0.03917467j]\n",
      " [-0.25499985+0.26569545j  0.1557431 -0.03917465j]\n",
      " [-0.25499988+0.26569548j  0.15574309-0.03917469j]\n",
      " [ 0.22881684-0.10965338j  0.41656747-0.02609643j]\n",
      " [ 0.22881678-0.10965349j  0.41656747-0.02609643j]\n",
      " [ 0.22881675-0.10965344j  0.41656747-0.02609642j]\n",
      " [ 0.22881675-0.10965341j  0.41656747-0.02609638j]\n",
      " [ 0.22881678-0.10965338j  0.41656747-0.02609638j]]\n"
     ]
    }
   ],
   "source": [
    "H.eigsolve()\n",
    "\n",
    "print('eigenvalues:', H.eigvals)\n",
    "print('eigenvectors:')\n",
    "print( H.eigvecs)"
   ]
  },
  {
   "cell_type": "markdown",
   "metadata": {},
   "source": [
    "## Example Code\n",
    "### Electron gas in 1-D lattice of s-orbitals"
   ]
  },
  {
   "cell_type": "code",
   "execution_count": 26,
   "metadata": {},
   "outputs": [
    {
     "name": "stdout",
     "output_type": "stream",
     "text": [
      "Calculating matrix elements of Hamiltonian.\n",
      "row: 100.00%, column: 100.00%\n",
      "Ground state energy = -2.0\n",
      "Ground state = [0.28151026-0.14405541j]\n"
     ]
    },
    {
     "data": {
      "image/png": "[encoded data removed]",
      "text/plain": [
       "<Figure size 640x480 with 1 Axes>"
      ]
     },
     "metadata": {},
     "output_type": "display_data"
    }
   ],
   "source": [
    "from matplotlib import pyplot as plt\n",
    "from edinpy import fermion as edf\n",
    "\n",
    "edf.clear()\n",
    "\n",
    "Lx = 10\n",
    "Nf = 1\n",
    "x = edf.DoF(Lx, 'x')\n",
    "mf = edf.model(Nf)\n",
    "\n",
    "c = edf.operator\n",
    "\n",
    "def ham(t):\n",
    "    \n",
    "    t = edf.scalar(t, 't')\n",
    "\n",
    "    H = edf.null()\n",
    "\n",
    "    for i in range(x.N-1):\n",
    "        H += -t * (c(i).dag * c(i+1) + c(i+1).dag * c(i))\n",
    "\n",
    "    H += -t * (c(0).dag * c(x.N-1) + c(x.N-1).dag * c(0))\n",
    "    \n",
    "    return H\n",
    "\n",
    "H = edf.hamiltonian(ham(1))\n",
    "plt.imshow(H.array.real != 0, cmap = 'binary')\n",
    "plt.title('Non-zero elements of H')\n",
    "\n",
    "H.eigsolve(numeigs = 1)\n",
    "print(f'Ground state energy = {H.eigvals[0]}')\n",
    "print(f'Ground state = {H.eigvecs[0]}')\n",
    "\n"
   ]
  },
  {
   "cell_type": "markdown",
   "metadata": {},
   "source": [
    "### Fermi-Hubbard model at $\\frac{1}{2}$ filling"
   ]
  },
  {
   "cell_type": "code",
   "execution_count": 27,
   "metadata": {},
   "outputs": [
    {
     "name": "stdout",
     "output_type": "stream",
     "text": [
      "Calculating matrix elements of Hamiltonian.\n",
      "row: 100.00%, column: 100.00%\n",
      "Ground state energy = -4.387778282165527\n",
      "Ground state = [8.5885645e-09+3.414903e-08j]\n"
     ]
    },
    {
     "data": {
      "image/png": "[encoded data removed]",
      "text/plain": [
       "<Figure size 640x480 with 1 Axes>"
      ]
     },
     "metadata": {},
     "output_type": "display_data"
    }
   ],
   "source": [
    "from matplotlib import pyplot as plt\n",
    "from edinpy import fermion as edf\n",
    "\n",
    "edf.clear()\n",
    "\n",
    "Lx = 5\n",
    "Nf = 5\n",
    "x = edf.DoF(Lx, 'x')\n",
    "spin = edf.DoF(2, 's')\n",
    "mf = edf.model(Nf)\n",
    "\n",
    "c = edf.operator\n",
    "n = edf.number\n",
    "\n",
    "def ham(t,U):\n",
    "    \n",
    "    t = edf.scalar(t, 't')\n",
    "    U = edf.scalar(U, 'U')\n",
    "\n",
    "    H = edf.null()\n",
    "\n",
    "    for i in range(x.N):\n",
    "        H += U * n((i,0)) * n((i,1))\n",
    "\n",
    "    for s in range(spin.N):\n",
    "        for i in range(x.N-1):\n",
    "            H += -t * (c((i,s)).dag * c((i+1,s)) + c((i+1,s)).dag * c((i,s)))\n",
    "\n",
    "    for s in range(spin.N):\n",
    "        H += -t * (c((0,s)).dag * c((x.N-1,s)) + c((x.N-1,s)).dag * c((0,s)))\n",
    "    \n",
    "    return H\n",
    "\n",
    "H = edf.hamiltonian(ham(1,2))\n",
    "plt.imshow(H.array.real != 0, cmap = 'binary')\n",
    "plt.title('Non-zero elements of H')\n",
    "\n",
    "H.eigsolve(numeigs = 1)\n",
    "print(f'Ground state energy = {H.eigvals[0]}')\n",
    "print(f'Ground state = {H.eigvecs[0]}')"
   ]
  },
  {
   "cell_type": "markdown",
   "metadata": {},
   "source": [
    "### Bose-Hubbard Model $\\frac{1}{2}$ filling"
   ]
  },
  {
   "cell_type": "code",
   "execution_count": 28,
   "metadata": {},
   "outputs": [
    {
     "name": "stdout",
     "output_type": "stream",
     "text": [
      "Calculating matrix elements of Hamiltonian.\n",
      "row: 100.00%, column: 100.00%\n",
      "Ground state energy = -4.8221516609191895\n",
      "Ground state = [-0.00013507+0.00010746j]\n"
     ]
    },
    {
     "data": {
      "image/png": "[encoded data removed]",
      "text/plain": [
       "<Figure size 640x480 with 1 Axes>"
      ]
     },
     "metadata": {},
     "output_type": "display_data"
    }
   ],
   "source": [
    "from matplotlib import pyplot as plt\n",
    "from edinpy import boson as edb\n",
    "\n",
    "edb.clear()\n",
    "\n",
    "Lx = 5\n",
    "Nb = 5\n",
    "x = edb.DoF(Lx, 'x')\n",
    "mf = edb.model(Nb)\n",
    "\n",
    "b = edb.operator\n",
    "n = edb.number\n",
    "\n",
    "def ham(t,U):\n",
    "    \n",
    "    t = edb.scalar(t, 't')\n",
    "    U = edb.scalar(U, 'U')\n",
    "\n",
    "    H = edb.null()\n",
    "\n",
    "    for i in range(x.N):\n",
    "        H += U * n(i) * (n(i) - 1)\n",
    "\n",
    "    for i in range(x.N-1):\n",
    "        H += -t * (b(i).dag * b(i+1) + b(i+1).dag * b(i))\n",
    "\n",
    "    H += -t * (b(0).dag * b(x.N-1) + b(x.N-1).dag * b(0))\n",
    "    \n",
    "    return H\n",
    "\n",
    "H = edb.hamiltonian(ham(1,2))\n",
    "plt.imshow(H.array.real != 0, cmap = 'binary')\n",
    "plt.title('Non-zero elements of H')\n",
    "\n",
    "H.eigsolve(numeigs = 1)\n",
    "print(f'Ground state energy = {H.eigvals[0]}')\n",
    "print(f'Ground state = {H.eigvecs[0]}')"
   ]
  }
 ],
 "metadata": {
  "kernelspec": {
   "display_name": "base",
   "language": "python",
   "name": "python3"
  },
  "language_info": {
   "codemirror_mode": {
    "name": "ipython",
    "version": 3
   },
   "file_extension": ".py",
   "mimetype": "text/x-python",
   "name": "python",
   "nbconvert_exporter": "python",
   "pygments_lexer": "ipython3",
   "version": "3.10.9"
  }
 },
 "nbformat": 4,
 "nbformat_minor": 2
}
